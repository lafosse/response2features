{
 "cells": [
  {
   "cell_type": "markdown",
   "metadata": {},
   "source": [
    "# Preprocessing of Response and Movie Data"
   ]
  },
  {
   "cell_type": "markdown",
   "metadata": {},
   "source": [
    "## Import source code and packages"
   ]
  },
  {
   "cell_type": "code",
   "execution_count": 1,
   "metadata": {
    "execution": {
     "iopub.execute_input": "2021-03-20T04:38:14.157023Z",
     "iopub.status.busy": "2021-03-20T04:38:14.156803Z",
     "iopub.status.idle": "2021-03-20T04:38:15.089629Z",
     "shell.execute_reply": "2021-03-20T04:38:15.089012Z",
     "shell.execute_reply.started": "2021-03-20T04:38:14.156994Z"
    }
   },
   "outputs": [],
   "source": [
    "import os\n",
    "import sys\n",
    "sys.path.append('./src')\n",
    "\n",
    "import preprocess_data as ppd\n",
    "import gabor_wavelet_filters as gwf\n",
    "\n",
    "import matplotlib.pyplot as plt\n",
    "import numpy as np"
   ]
  },
  {
   "cell_type": "markdown",
   "metadata": {},
   "source": [
    "## Set save path for all data"
   ]
  },
  {
   "cell_type": "code",
   "execution_count": 2,
   "metadata": {
    "execution": {
     "iopub.execute_input": "2021-03-20T04:38:17.908042Z",
     "iopub.status.busy": "2021-03-20T04:38:17.907840Z",
     "iopub.status.idle": "2021-03-20T04:38:17.910485Z",
     "shell.execute_reply": "2021-03-20T04:38:17.909958Z",
     "shell.execute_reply.started": "2021-03-20T04:38:17.908020Z"
    }
   },
   "outputs": [],
   "source": [
    "save_path = './data/'"
   ]
  },
  {
   "cell_type": "markdown",
   "metadata": {},
   "source": [
    "## Preprocess raw data\n",
    "### Preprocess responses\n",
    "* load the dF/F responses\n",
    "* gaussian temporal kernel to smooth\n",
    "* chop pre/post sections from response traces\n",
    "* normalize data between -1 and 1, keeping 0 values at 0\n",
    "\n",
    "### Preprocess movie\n",
    "* load movie\n",
    "* crop movie\n",
    "* normalize values between -1 and 1 (from 0 to 255, where 127 -> 0)\n",
    "* downscale frames to 32x32"
   ]
  },
  {
   "cell_type": "code",
   "execution_count": 3,
   "metadata": {
    "execution": {
     "iopub.execute_input": "2021-03-20T04:38:20.437322Z",
     "iopub.status.busy": "2021-03-20T04:38:20.437126Z",
     "iopub.status.idle": "2021-03-20T04:38:20.690564Z",
     "shell.execute_reply": "2021-03-20T04:38:20.690020Z",
     "shell.execute_reply.started": "2021-03-20T04:38:20.437300Z"
    }
   },
   "outputs": [
    {
     "name": "stdout",
     "output_type": "stream",
     "text": [
      "Loaded data shape:  (132, 60, 780)\n",
      "Preprocessed data shape:  (132, 36000)\n"
     ]
    }
   ],
   "source": [
    "# preprocess response data\n",
    "\n",
    "resp_filepath = './data/raw_responses_dfof.npz'\n",
    "\n",
    "# parameters\n",
    "sigma = 4 # gaussian filter sigma\n",
    "chopStart = 90 # frame number to remove periods before movie stimulus presentation\n",
    "chopEnd = 690 # frame number to remove periods after movie stimulus presentation\n",
    "\n",
    "ppd.preprocess_resp(resp_filepath,sigma,chopStart,chopEnd,save_path)"
   ]
  },
  {
   "cell_type": "code",
   "execution_count": 4,
   "metadata": {
    "execution": {
     "iopub.execute_input": "2021-03-20T04:38:21.812393Z",
     "iopub.status.busy": "2021-03-20T04:38:21.812164Z",
     "iopub.status.idle": "2021-03-20T04:38:29.593005Z",
     "shell.execute_reply": "2021-03-20T04:38:29.592398Z",
     "shell.execute_reply.started": "2021-03-20T04:38:21.812366Z"
    }
   },
   "outputs": [
    {
     "name": "stdout",
     "output_type": "stream",
     "text": [
      "Loaded movie shape:  (600, 720, 1280)\n",
      "Cropped movie shape:  (600, 696, 696)\n",
      "Range of values: [-1.0,0.9058823529411764]\n",
      "Final movie shape:  (600, 32, 32)\n"
     ]
    }
   ],
   "source": [
    "# preprocess movie\n",
    "\n",
    "movie_filepath = './data/touch_of_evil_20s.mp4'\n",
    "\n",
    "# parameters\n",
    "downscale_tuple = (1,22,22) # tuple designating downscale size of movie array in dimensions (t,x,y)\n",
    "\n",
    "frames = ppd.preprocess_movie(movie_filepath,downscale_tuple,save_path)"
   ]
  },
  {
   "cell_type": "code",
   "execution_count": 5,
   "metadata": {
    "execution": {
     "iopub.execute_input": "2021-03-20T04:38:29.594836Z",
     "iopub.status.busy": "2021-03-20T04:38:29.594632Z",
     "iopub.status.idle": "2021-03-20T04:38:29.723980Z",
     "shell.execute_reply": "2021-03-20T04:38:29.723436Z",
     "shell.execute_reply.started": "2021-03-20T04:38:29.594809Z"
    }
   },
   "outputs": [
    {
     "data": {
      "image/png": "[encoded data removed]",
      "text/plain": [
       "<Figure size 432x288 with 1 Axes>"
      ]
     },
     "metadata": {
      "needs_background": "light"
     },
     "output_type": "display_data"
    }
   ],
   "source": [
    "# test frame example\n",
    "plt.imshow(frames[221,:,:])\n",
    "plt.show()"
   ]
  },
  {
   "cell_type": "markdown",
   "metadata": {},
   "source": [
    "## Create Gabor wavelet filters and decompose movie frames into feature vectors"
   ]
  },
  {
   "cell_type": "code",
   "execution_count": 6,
   "metadata": {
    "execution": {
     "iopub.execute_input": "2021-03-20T04:38:31.463793Z",
     "iopub.status.busy": "2021-03-20T04:38:31.463581Z",
     "iopub.status.idle": "2021-03-20T04:38:31.470903Z",
     "shell.execute_reply": "2021-03-20T04:38:31.470353Z",
     "shell.execute_reply.started": "2021-03-20T04:38:31.463769Z"
    }
   },
   "outputs": [],
   "source": [
    "### image parameters\n",
    "im = frames.copy()\n",
    "im = np.rollaxis(im,0,3) # make last dimension the frames\n",
    "image_size = im[:,:,0].shape\n",
    "movie_repeats = 60\n",
    "\n",
    "### Gabor wavelet parameters\n",
    "nScale = 4                   # number of different scales (mults of 2), scale factors, s = list(range(nScales))\n",
    "nOri = 4                     # number of sampling orientations\n",
    "base_size_pix = 8            # minimum size of wavelet filter in pixels (scale size factor, s, of 0)\n",
    "sf = 4/base_size_pix         # scaling factor\n",
    "conv_grid_sizes = [11,5,3,1] # specify grid sizes for centering wavelets for convolution (eg. 5 means a 5x5 grid with 25 centers)\n",
    "phi = 1.5                    # bandwidth of gabor\n",
    "aspectRatio = 1              # aspect ratio of gabor filter (applied to x dimension, relative to y dimension)\n",
    "theta0 = np.pi/nOri          # step size of angular rotations\n",
    "\n",
    "assert len(conv_grid_sizes) == nScale, 'Must specify a number of grid locations to apply filter for each scale'\n",
    "\n",
    "# parameter dictionary\n",
    "params = {\n",
    "    'image_size': image_size,\n",
    "    'phi': phi,\n",
    "    'aspectRatio': aspectRatio,\n",
    "    'base_size_pix': base_size_pix,\n",
    "    'sf': sf,\n",
    "    'nScale': nScale,\n",
    "    'nOri': nOri,\n",
    "    'theta0': theta0,\n",
    "    'conv_grid_sizes': conv_grid_sizes\n",
    "}"
   ]
  },
  {
   "cell_type": "code",
   "execution_count": 7,
   "metadata": {
    "execution": {
     "iopub.execute_input": "2021-03-20T04:38:33.270325Z",
     "iopub.status.busy": "2021-03-20T04:38:33.270132Z",
     "iopub.status.idle": "2021-03-20T04:38:34.743180Z",
     "shell.execute_reply": "2021-03-20T04:38:34.742598Z",
     "shell.execute_reply.started": "2021-03-20T04:38:33.270304Z"
    }
   },
   "outputs": [
    {
     "name": "stdout",
     "output_type": "stream",
     "text": [
      "Generated a bank of 1248 wavelets...\n",
      "Wavelets saved at: ./data/wavelets/\n"
     ]
    }
   ],
   "source": [
    "# create wavelets with above parameters and save\n",
    "GW = gwf.GaborWavelets(params)\n",
    "\n",
    "# output location for wavelets\n",
    "save_path_wavelets = os.path.join(save_path,'wavelets/')\n",
    "GW.saveWaveletImages(save_path_wavelets)"
   ]
  },
  {
   "cell_type": "code",
   "execution_count": 8,
   "metadata": {
    "execution": {
     "iopub.execute_input": "2021-03-20T04:38:35.709837Z",
     "iopub.status.busy": "2021-03-20T04:38:35.709616Z",
     "iopub.status.idle": "2021-03-20T04:38:36.456820Z",
     "shell.execute_reply": "2021-03-20T04:38:36.456352Z",
     "shell.execute_reply.started": "2021-03-20T04:38:35.709812Z"
    }
   },
   "outputs": [
    {
     "name": "stdout",
     "output_type": "stream",
     "text": [
      "Transformation matrices saved at:  ./data/G_transforms.npz\n",
      "Shape of saved feature vector array:  (1248, 36000)\n",
      "Feature vector array saved at:  ./data/feature_vectors.npz\n",
      "Reconstructed movie saved at:  ./data/reconstructed_movie.tif\n"
     ]
    }
   ],
   "source": [
    "# create transformations for image->feature vector and vice-versa\n",
    "FV = gwf.FeatureVectors(GW.wavelets,im,save_path)\n",
    "feature_vector = FV.image2features(movie_repeats)\n",
    "reconstructed_im = FV.features2image(feature_vector)"
   ]
  },
  {
   "cell_type": "markdown",
   "metadata": {},
   "source": [
    "## Test Gabor wavelet feature vector reconstruction"
   ]
  },
  {
   "cell_type": "code",
   "execution_count": 9,
   "metadata": {
    "execution": {
     "iopub.execute_input": "2021-03-20T04:38:38.246437Z",
     "iopub.status.busy": "2021-03-20T04:38:38.246195Z",
     "iopub.status.idle": "2021-03-20T04:38:38.463722Z",
     "shell.execute_reply": "2021-03-20T04:38:38.463178Z",
     "shell.execute_reply.started": "2021-03-20T04:38:38.246409Z"
    }
   },
   "outputs": [
    {
     "name": "stdout",
     "output_type": "stream",
     "text": [
      "Testing correlation of frame 0\n",
      "Correlation coefficient:  0.9012718628022458\n",
      "p-value:  0.0\n"
     ]
    },
    {
     "data": {
      "text/plain": [
       "(0.9012718628022458, 0.0)"
      ]
     },
     "execution_count": 9,
     "metadata": {},
     "output_type": "execute_result"
    },
    {
     "data": {
      "image/png": "[encoded data removed]",
      "text/plain": [
       "<Figure size 432x288 with 1 Axes>"
      ]
     },
     "metadata": {
      "needs_background": "light"
     },
     "output_type": "display_data"
    },
    {
     "data": {
      "image/png": "[encoded data removed]",
      "text/plain": [
       "<Figure size 432x288 with 1 Axes>"
      ]
     },
     "metadata": {
      "needs_background": "light"
     },
     "output_type": "display_data"
    }
   ],
   "source": [
    "# test reconstruction accuracy on single frame\n",
    "FV.testReconstructionAccuracy(reconstructed_im,frame_idx=0)"
   ]
  },
  {
   "cell_type": "code",
   "execution_count": 10,
   "metadata": {
    "execution": {
     "iopub.execute_input": "2021-03-20T04:38:41.521508Z",
     "iopub.status.busy": "2021-03-20T04:38:41.521275Z",
     "iopub.status.idle": "2021-03-20T04:38:41.690159Z",
     "shell.execute_reply": "2021-03-20T04:38:41.689588Z",
     "shell.execute_reply.started": "2021-03-20T04:38:41.521480Z"
    }
   },
   "outputs": [
    {
     "data": {
      "image/png": "[encoded data removed]",
      "text/plain": [
       "<Figure size 216x432 with 1 Axes>"
      ]
     },
     "metadata": {
      "needs_background": "light"
     },
     "output_type": "display_data"
    }
   ],
   "source": [
    "# test reconstruction accuracy on all frames\n",
    "rs = []\n",
    "for iF in range(im.shape[2]):\n",
    "    r,_ = FV.testReconstructionAccuracy(reconstructed_im,frame_idx=iF,show_plots=False)\n",
    "    rs.append(r)\n",
    "    \n",
    "gwf.plot_correlation_dist(rs)"
   ]
  },
  {
   "cell_type": "code",
   "execution_count": null,
   "metadata": {},
   "outputs": [],
   "source": []
  }
 ],
 "metadata": {
  "kernelspec": {
   "display_name": "Python 3",
   "language": "python",
   "name": "python3"
  },
  "language_info": {
   "codemirror_mode": {
    "name": "ipython",
    "version": 3
   },
   "file_extension": ".py",
   "mimetype": "text/x-python",
   "name": "python",
   "nbconvert_exporter": "python",
   "pygments_lexer": "ipython3",
   "version": "3.7.6"
  }
 },
 "nbformat": 4,
 "nbformat_minor": 4
}
