{
 "cells": [
  {
   "cell_type": "markdown",
   "metadata": {},
   "source": [
    "# Pre-processing, Feature Vector Calculations, and Image Reconstruction"
   ]
  },
  {
   "cell_type": "code",
   "execution_count": 9,
   "metadata": {
    "execution": {
     "iopub.execute_input": "2021-03-07T20:57:44.895515Z",
     "iopub.status.busy": "2021-03-07T20:57:44.895291Z",
     "iopub.status.idle": "2021-03-07T20:57:45.165938Z",
     "shell.execute_reply": "2021-03-07T20:57:45.165442Z",
     "shell.execute_reply.started": "2021-03-07T20:57:44.895489Z"
    }
   },
   "outputs": [],
   "source": [
    "import skvideo.io  # pip install sk-video\n",
    "import matplotlib.pyplot as plt\n",
    "import numpy as np\n",
    "import tifffile as tfl\n",
    "from scipy.ndimage import gaussian_filter1d\n",
    "from skimage.transform import downscale_local_mean"
   ]
  },
  {
   "cell_type": "markdown",
   "metadata": {},
   "source": [
    "## Pre-process responses\n",
    "* load the dF/F responses\n",
    "* gaussian temporal kernel to smooth\n",
    "* chop pre/post sections from response traces\n",
    "* normalize data between -1 and 1, keeping 0 values at 0"
   ]
  },
  {
   "cell_type": "code",
   "execution_count": 2,
   "metadata": {
    "execution": {
     "iopub.execute_input": "2021-03-07T20:57:14.571098Z",
     "iopub.status.busy": "2021-03-07T20:57:14.570894Z",
     "iopub.status.idle": "2021-03-07T20:57:14.646918Z",
     "shell.execute_reply": "2021-03-07T20:57:14.646247Z",
     "shell.execute_reply.started": "2021-03-07T20:57:14.571076Z"
    }
   },
   "outputs": [
    {
     "name": "stdout",
     "output_type": "stream",
     "text": [
      "(132, 60, 780)\n"
     ]
    }
   ],
   "source": [
    "# load response data\n",
    "resp_file = np.load('./data/raw_responses_dfof.npz')\n",
    "resp_raw = resp_file['responses']\n",
    "print(resp_raw.shape)"
   ]
  },
  {
   "cell_type": "code",
   "execution_count": 3,
   "metadata": {
    "execution": {
     "iopub.execute_input": "2021-03-07T20:57:15.681883Z",
     "iopub.status.busy": "2021-03-07T20:57:15.681647Z",
     "iopub.status.idle": "2021-03-07T20:57:15.844619Z",
     "shell.execute_reply": "2021-03-07T20:57:15.843853Z",
     "shell.execute_reply.started": "2021-03-07T20:57:15.681856Z"
    }
   },
   "outputs": [
    {
     "name": "stdout",
     "output_type": "stream",
     "text": [
      "(132, 60, 780)\n",
      "(132, 60, 600)\n",
      "(132, 60, 600)\n",
      "-0.39051850702147706 1.0\n",
      "(132, 36000)\n"
     ]
    }
   ],
   "source": [
    "# filter traces through a gaussian kernel\n",
    "sigma = 4\n",
    "resp_gauss = gaussian_filter1d(resp_raw,sigma,axis=2,mode='reflect')\n",
    "print(resp_gauss.shape)\n",
    "\n",
    "# chop off pre and post movie presentation frames\n",
    "resp_chop = resp_gauss[:,:,90:690]\n",
    "print(resp_chop.shape)\n",
    "\n",
    "# normalize response between -1 and 1, keeping 0 values at 0\n",
    "min_val = resp_chop.min()\n",
    "max_val = resp_chop.max()\n",
    "abs_max = np.max((np.abs(min_val),np.abs(max_val)))\n",
    "resp_scaled = ((resp_chop+abs_max)/abs_max) - 1\n",
    "print(resp_scaled.shape)\n",
    "print(resp_scaled.min(),resp_scaled.max())\n",
    "\n",
    "# reshape array into (nCells,nRepeats*nFrames\n",
    "resp_final = np.reshape(resp_scaled,(resp_scaled.shape[0],resp_scaled.shape[1]*resp_scaled.shape[2]))\n",
    "print(resp_final.shape)"
   ]
  },
  {
   "cell_type": "code",
   "execution_count": 4,
   "metadata": {
    "execution": {
     "iopub.execute_input": "2021-03-07T20:57:16.529477Z",
     "iopub.status.busy": "2021-03-07T20:57:16.529258Z",
     "iopub.status.idle": "2021-03-07T20:57:16.596261Z",
     "shell.execute_reply": "2021-03-07T20:57:16.595521Z",
     "shell.execute_reply.started": "2021-03-07T20:57:16.529451Z"
    }
   },
   "outputs": [],
   "source": [
    "# save pre-processed response data\n",
    "np.savez('./data/response_vectors.npz',response_vectors=resp_final)"
   ]
  },
  {
   "cell_type": "markdown",
   "metadata": {},
   "source": [
    "## Pre-process movie\n",
    "* load movie\n",
    "* crop movie\n",
    "* normalize values between -1 and 1 (from 0 to 255, where 127 -> 0)\n",
    "* downscale frames to 32x32"
   ]
  },
  {
   "cell_type": "code",
   "execution_count": 5,
   "metadata": {
    "execution": {
     "iopub.execute_input": "2021-03-07T20:57:19.456415Z",
     "iopub.status.busy": "2021-03-07T20:57:19.456187Z",
     "iopub.status.idle": "2021-03-07T20:57:23.133435Z",
     "shell.execute_reply": "2021-03-07T20:57:23.132905Z",
     "shell.execute_reply.started": "2021-03-07T20:57:19.456388Z"
    }
   },
   "outputs": [
    {
     "name": "stdout",
     "output_type": "stream",
     "text": [
      "(600, 720, 1280)\n"
     ]
    }
   ],
   "source": [
    "# load movie\n",
    "video = skvideo.io.vread('./data/touch_of_evil_20s.mp4',as_grey=True)\n",
    "video_raw_frames = np.reshape(video,video.shape[:3])\n",
    "print(video_raw_frames.shape)"
   ]
  },
  {
   "cell_type": "code",
   "execution_count": 6,
   "metadata": {
    "execution": {
     "iopub.execute_input": "2021-03-07T20:57:24.316495Z",
     "iopub.status.busy": "2021-03-07T20:57:24.316256Z",
     "iopub.status.idle": "2021-03-07T20:57:27.888888Z",
     "shell.execute_reply": "2021-03-07T20:57:27.888085Z",
     "shell.execute_reply.started": "2021-03-07T20:57:24.316467Z"
    }
   },
   "outputs": [
    {
     "name": "stdout",
     "output_type": "stream",
     "text": [
      "(600, 696, 696)\n",
      "range of values: [-1.0,0.9058823529411764]\n",
      "(600, 32, 32)\n"
     ]
    }
   ],
   "source": [
    "# black buffer of 12 pixels at top and bottom of every frame\n",
    "# crop frames to get rid of buffer and get centered square of each frame\n",
    "crop_y = 12\n",
    "yDim = video_raw_frames.shape[1]-(2*crop_y)\n",
    "crop_x = (video_raw_frames.shape[2]-yDim)//2\n",
    "frames_crop = video_raw_frames[:,\n",
    "                               crop_y:video_raw_frames.shape[1]-crop_y,\n",
    "                               crop_x:video_raw_frames.shape[2]-crop_x]\n",
    "print(frames_crop.shape)\n",
    "\n",
    "# normalize pixel values between [-1,1]\n",
    "min_val = 0\n",
    "max_val = 255\n",
    "frames_norm = (2 * ((frames_crop-min_val)/(max_val-min_val)) ) - 1\n",
    "print('range of values: ['+str(frames_norm.min())+','+str(frames_norm.max())+']')\n",
    "\n",
    "# downsample frames to size 32x32\n",
    "frames = downscale_local_mean(frames_norm,factors=(1,22,22))\n",
    "print(frames.shape)\n",
    "\n",
    "# save movie frames as .tiff file\n",
    "tfl.imsave('./data/processed_movie.tif',frames,bigtiff=True)"
   ]
  },
  {
   "cell_type": "code",
   "execution_count": 10,
   "metadata": {
    "execution": {
     "iopub.execute_input": "2021-03-07T20:57:47.884160Z",
     "iopub.status.busy": "2021-03-07T20:57:47.883926Z",
     "iopub.status.idle": "2021-03-07T20:57:48.010629Z",
     "shell.execute_reply": "2021-03-07T20:57:48.009966Z",
     "shell.execute_reply.started": "2021-03-07T20:57:47.884134Z"
    }
   },
   "outputs": [
    {
     "data": {
      "text/plain": [
       "<matplotlib.image.AxesImage at 0x7f919951be50>"
      ]
     },
     "execution_count": 10,
     "metadata": {},
     "output_type": "execute_result"
    },
    {
     "data": {
      "image/png": "[encoded data removed]",
      "text/plain": [
       "<Figure size 432x288 with 1 Axes>"
      ]
     },
     "metadata": {
      "needs_background": "light"
     },
     "output_type": "display_data"
    }
   ],
   "source": [
    "plt.imshow(frames[221,:,:])"
   ]
  },
  {
   "cell_type": "code",
   "execution_count": null,
   "metadata": {},
   "outputs": [],
   "source": []
  }
 ],
 "metadata": {
  "kernelspec": {
   "display_name": "Python 3",
   "language": "python",
   "name": "python3"
  },
  "language_info": {
   "codemirror_mode": {
    "name": "ipython",
    "version": 3
   },
   "file_extension": ".py",
   "mimetype": "text/x-python",
   "name": "python",
   "nbconvert_exporter": "python",
   "pygments_lexer": "ipython3",
   "version": "3.7.6"
  }
 },
 "nbformat": 4,
 "nbformat_minor": 4
}
